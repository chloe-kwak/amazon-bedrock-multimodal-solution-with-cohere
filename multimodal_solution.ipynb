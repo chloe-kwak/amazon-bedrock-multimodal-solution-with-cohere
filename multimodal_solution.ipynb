{
 "cells": [
  {
   "cell_type": "markdown",
   "metadata": {},
   "source": [
    "# Cohere Embed v4 + OpenSearch Serverless 멀티모달 임베딩 솔루션\n",
    "\n",
    "이 노트북은 Cohere Embed v4와 OpenSearch Serverless를 사용하여 이미지와 텍스트를 결합한 멀티모달 임베딩 솔루션을 구현합니다."
   ]
  },
  {
   "cell_type": "code",
   "execution_count": 6,
   "metadata": {
    "execution": {
     "iopub.execute_input": "2025-10-25T14:39:04.549495Z",
     "iopub.status.busy": "2025-10-25T14:39:04.549242Z",
     "iopub.status.idle": "2025-10-25T14:39:06.275997Z",
     "shell.execute_reply": "2025-10-25T14:39:06.275015Z",
     "shell.execute_reply.started": "2025-10-25T14:39:04.549470Z"
    }
   },
   "outputs": [
    {
     "name": "stdout",
     "output_type": "stream",
     "text": [
      "✅ 환경 설정 완료\n"
     ]
    }
   ],
   "source": [
    "# 라이브러리 설치 및 임포트\n",
    "!pip install boto3>=1.34.0 opensearch-py>=2.4.0 requests-aws4auth>=1.2.3 pandas>=2.0.0 Pillow>=10.0.0 python-dotenv>=1.0.0\n",
    "\n",
    "import boto3\n",
    "import json\n",
    "import base64\n",
    "import pandas as pd\n",
    "from PIL import Image\n",
    "import io\n",
    "import os\n",
    "from datetime import datetime\n",
    "from opensearchpy import OpenSearch, RequestsHttpConnection\n",
    "from requests_aws4auth import AWS4Auth\n",
    "from dotenv import load_dotenv\n",
    "\n",
    "# .env 파일 로드\n",
    "load_dotenv()\n",
    "\n",
    "# 설정\n",
    "REGION = 'us-east-1'\n",
    "INDEX_NAME = 'fashion-items-1'\n",
    "\n",
    "# AWS 클라이언트 생성\n",
    "bedrock_client = boto3.client('bedrock-runtime', region_name=REGION)\n",
    "opensearch_client = boto3.client('opensearchserverless', region_name=REGION)\n",
    "session = boto3.Session()\n",
    "credentials = session.get_credentials()\n",
    "awsauth = AWS4Auth(credentials.access_key, credentials.secret_key, REGION, 'aoss', session_token=credentials.token)\n",
    "\n",
    "print(\"✅ 환경 설정 완료\")"
   ]
  },
  {
   "cell_type": "code",
   "execution_count": 7,
   "metadata": {
    "execution": {
     "iopub.execute_input": "2025-10-25T14:39:08.970499Z",
     "iopub.status.busy": "2025-10-25T14:39:08.970093Z",
     "iopub.status.idle": "2025-10-25T14:39:09.037934Z",
     "shell.execute_reply": "2025-10-25T14:39:09.037365Z",
     "shell.execute_reply.started": "2025-10-25T14:39:08.970471Z"
    }
   },
   "outputs": [
    {
     "name": "stdout",
     "output_type": "stream",
     "text": [
      "🔍 활성 OpenSearch 컬렉션 검색 중...\n",
      "✅ 활성 컬렉션 발견: bedrock-knowledge-base-9wf97u -> https://3ojsgyty8n9k800j7iu4.u...\n",
      "🎯 사용할 엔드포인트: https://3ojsgyty8n9k800j7iu4.u...\n"
     ]
    }
   ],
   "source": [
    "# .env에서 엔드포인트 읽기\n",
    "EXISTING_ENDPOINT = os.getenv('OPENSEARCH_ENDPOINT')\n",
    "\n",
    "def get_or_create_collection():\n",
    "    if EXISTING_ENDPOINT:\n",
    "        print(f\"✅ .env에서 엔드포인트 로드: {EXISTING_ENDPOINT[:30]}...\")\n",
    "        return EXISTING_ENDPOINT\n",
    "    \n",
    "    try:\n",
    "        print(\"🔍 활성 OpenSearch 컬렉션 검색 중...\")\n",
    "        collections = opensearch_client.list_collections()\n",
    "        for collection in collections[\"collectionSummaries\"]:\n",
    "            if collection[\"status\"] == \"ACTIVE\":\n",
    "                endpoint = f\"https://{collection[\"id\"]}.{REGION}.aoss.amazonaws.com\"\n",
    "                print(f\"✅ 활성 컬렉션 발견: {collection[\"name\"]} -> {endpoint[:30]}...\")\n",
    "                return endpoint\n",
    "        \n",
    "        print(\"❌ 활성 컬렉션을 찾을 수 없습니다.\")\n",
    "        print(\"💡 .env 파일에 OPENSEARCH_ENDPOINT를 설정하거나 OpenSearch 컬렉션을 생성해주세요.\")\n",
    "        return None\n",
    "    except Exception as e:\n",
    "        print(f\"❌ 컬렉션 확인 실패: {e}\")\n",
    "        print(\"💡 .env 파일에 OPENSEARCH_ENDPOINT를 설정해주세요.\")\n",
    "        return None\n",
    "\n",
    "ENDPOINT = get_or_create_collection()\n",
    "if not ENDPOINT:\n",
    "    raise Exception(\"OpenSearch 엔드포인트를 찾을 수 없습니다. .env 파일을 확인하거나 컬렉션을 생성해주세요.\")\n",
    "\n",
    "print(f\"🎯 사용할 엔드포인트: {ENDPOINT[:30]}...\")"
   ]
  },
  {
   "cell_type": "code",
   "execution_count": 8,
   "metadata": {
    "execution": {
     "iopub.execute_input": "2025-10-25T14:39:13.583594Z",
     "iopub.status.busy": "2025-10-25T14:39:13.583328Z",
     "iopub.status.idle": "2025-10-25T14:39:13.699150Z",
     "shell.execute_reply": "2025-10-25T14:39:13.698557Z",
     "shell.execute_reply.started": "2025-10-25T14:39:13.583572Z"
    }
   },
   "outputs": [
    {
     "name": "stdout",
     "output_type": "stream",
     "text": [
      "ℹ️ 데이터 액세스 정책이 이미 존재합니다\n"
     ]
    }
   ],
   "source": [
    "# 데이터 액세스 권한 설정\n",
    "def setup_data_access_policy():\n",
    "    try:\n",
    "        # 현재 사용자 ARN 가져오기\n",
    "        sts = boto3.client('sts')\n",
    "        identity = sts.get_caller_identity()\n",
    "        user_arn = identity['Arn']\n",
    "        \n",
    "        # 데이터 액세스 정책\n",
    "        policy = [\n",
    "            {\n",
    "                \"Rules\": [\n",
    "                    {\n",
    "                        \"ResourceType\": \"index\",\n",
    "                        \"Resource\": [\"index/*/*\"],\n",
    "                        \"Permission\": [\n",
    "                            \"aoss:CreateIndex\", \"aoss:DeleteIndex\", \"aoss:UpdateIndex\",\n",
    "                            \"aoss:DescribeIndex\", \"aoss:ReadDocument\", \"aoss:WriteDocument\"\n",
    "                        ]\n",
    "                    },\n",
    "                    {\n",
    "                        \"ResourceType\": \"collection\",\n",
    "                        \"Resource\": [\"collection/*\"],\n",
    "                        \"Permission\": [\"aoss:CreateCollectionItems\"]\n",
    "                    }\n",
    "                ],\n",
    "                \"Principal\": [user_arn]\n",
    "            }\n",
    "        ]\n",
    "        \n",
    "        opensearch_client.create_access_policy(\n",
    "            name='multimodal-data-access-policy',\n",
    "            type='data',\n",
    "            policy=json.dumps(policy)\n",
    "        )\n",
    "        print(f\"✅ 데이터 액세스 정책 생성 완료: {user_arn}\")\n",
    "    except Exception as e:\n",
    "        if 'ConflictException' in str(e):\n",
    "            print(\"ℹ️ 데이터 액세스 정책이 이미 존재합니다\")\n",
    "        else:\n",
    "            print(f\"⚠️ 정책 설정 실패: {e}\")\n",
    "\n",
    "setup_data_access_policy()"
   ]
  },
  {
   "cell_type": "code",
   "execution_count": 9,
   "metadata": {
    "execution": {
     "iopub.execute_input": "2025-10-25T14:39:23.493048Z",
     "iopub.status.busy": "2025-10-25T14:39:23.492753Z",
     "iopub.status.idle": "2025-10-25T14:39:24.013311Z",
     "shell.execute_reply": "2025-10-25T14:39:24.012705Z",
     "shell.execute_reply.started": "2025-10-25T14:39:23.493025Z"
    }
   },
   "outputs": [
    {
     "name": "stdout",
     "output_type": "stream",
     "text": [
      "1536 차원 인덱스 생성 완료\n"
     ]
    }
   ],
   "source": [
    "# OpenSearch 클라이언트 및 인덱스 생성\n",
    "client = OpenSearch(\n",
    "    hosts=[{'host': ENDPOINT.replace('https://', ''), 'port': 443}],\n",
    "    http_auth=awsauth,\n",
    "    use_ssl=True,\n",
    "    verify_certs=True,\n",
    "    connection_class=RequestsHttpConnection\n",
    ")\n",
    "\n",
    "# 1536 차원 인덱스 매핑\n",
    "mapping = {\n",
    "    \"settings\": {\"index\": {\"knn\": True}},\n",
    "    \"mappings\": {\n",
    "        \"properties\": {\n",
    "            \"item_id\": {\"type\": \"keyword\"},\n",
    "            \"title\": {\"type\": \"text\"},\n",
    "            \"description\": {\"type\": \"text\"},\n",
    "            \"category\": {\"type\": \"keyword\"},\n",
    "            \"brand\": {\"type\": \"keyword\"},\n",
    "            \"price\": {\"type\": \"float\"},\n",
    "            \"color\": {\"type\": \"keyword\"},\n",
    "            \"multimodal_embedding\": {\n",
    "                \"type\": \"knn_vector\",\n",
    "                \"dimension\": 1536,\n",
    "                \"method\": {\"name\": \"hnsw\", \"space_type\": \"cosinesimil\", \"engine\": \"nmslib\"}\n",
    "            }\n",
    "        }\n",
    "    }\n",
    "}\n",
    "\n",
    "if client.indices.exists(index=INDEX_NAME):\n",
    "    client.indices.delete(index=INDEX_NAME)\n",
    "client.indices.create(index=INDEX_NAME, body=mapping)\n",
    "print(\"1536 차원 인덱스 생성 완료\")"
   ]
  },
  {
   "cell_type": "code",
   "execution_count": 10,
   "metadata": {
    "execution": {
     "iopub.execute_input": "2025-10-25T14:39:30.252198Z",
     "iopub.status.busy": "2025-10-25T14:39:30.251920Z",
     "iopub.status.idle": "2025-10-25T14:39:30.270924Z",
     "shell.execute_reply": "2025-10-25T14:39:30.270228Z",
     "shell.execute_reply.started": "2025-10-25T14:39:30.252175Z"
    }
   },
   "outputs": [
    {
     "name": "stdout",
     "output_type": "stream",
     "text": [
      "샘플 데이터 생성 완료: 5개 아이템\n"
     ]
    }
   ],
   "source": [
    "# 샘플 데이터 생성\n",
    "os.makedirs('data/images', exist_ok=True)\n",
    "\n",
    "sample_items = [\n",
    "    {'item_id': 'item_001', 'title': '블루 데님 재킷', 'description': '캐주얼한 스타일의 클래식 블루 데님 재킷', 'category': '아우터', 'brand': '스타일코', 'price': 89.99, 'color': '블루'},\n",
    "    {'item_id': 'item_002', 'title': '블랙 이브닝 드레스', 'description': '우아한 블랙 드레스로 특별한 행사에 적합', 'category': '드레스', 'brand': '엘레간스', 'price': 159.99, 'color': '블랙'},\n",
    "    {'item_id': 'item_003', 'title': '화이트 스니커즈', 'description': '편안하고 스타일리시한 화이트 운동화', 'category': '신발', 'brand': '컴포트스텝', 'price': 79.99, 'color': '화이트'},\n",
    "    {'item_id': 'item_004', 'title': '레드 울 스웨터', 'description': '따뜻한 겨울용 빨간 울 스웨터', 'category': '상의', 'brand': '웜웨어', 'price': 69.99, 'color': '레드'},\n",
    "    {'item_id': 'item_005', 'title': '브라운 가죽 핸드백', 'description': '프리미엄 브라운 가죽 핸드백', 'category': '액세서리', 'brand': '레더크래프트', 'price': 129.99, 'color': '브라운'}\n",
    "]\n",
    "\n",
    "# 샘플 이미지 생성\n",
    "colors = {'블루': (70, 130, 180), '블랙': (0, 0, 0), '화이트': (255, 255, 255), '레드': (220, 20, 60), '브라운': (139, 69, 19)}\n",
    "for item in sample_items:\n",
    "    color = colors[item['color']]\n",
    "    img = Image.new('RGB', (400, 400), color)\n",
    "    img.save(f\"data/images/{item['item_id']}.jpg\")\n",
    "\n",
    "print(f\"샘플 데이터 생성 완료: {len(sample_items)}개 아이템\")"
   ]
  },
  {
   "cell_type": "code",
   "execution_count": 11,
   "metadata": {
    "execution": {
     "iopub.execute_input": "2025-10-25T14:39:33.551491Z",
     "iopub.status.busy": "2025-10-25T14:39:33.551243Z",
     "iopub.status.idle": "2025-10-25T14:39:33.558606Z",
     "shell.execute_reply": "2025-10-25T14:39:33.557919Z",
     "shell.execute_reply.started": "2025-10-25T14:39:33.551472Z"
    }
   },
   "outputs": [
    {
     "name": "stdout",
     "output_type": "stream",
     "text": [
      "임베딩 함수 정의 완료\n"
     ]
    }
   ],
   "source": [
    "# 임베딩 생성 함수\n",
    "def encode_image(image_path):\n",
    "    with Image.open(image_path) as img:\n",
    "        if img.mode != 'RGB':\n",
    "            img = img.convert('RGB')\n",
    "        buffer = io.BytesIO()\n",
    "        img.save(buffer, format='JPEG')\n",
    "        return base64.b64encode(buffer.getvalue()).decode('utf-8')\n",
    "\n",
    "def generate_embedding(text, image_base64=None):\n",
    "    if image_base64:\n",
    "        payload = {\n",
    "            \"input_type\": \"search_document\",\n",
    "            \"embedding_types\": [\"float\"],\n",
    "            \"inputs\": [{\n",
    "                \"content\": [\n",
    "                    {\"type\": \"text\", \"text\": text},\n",
    "                    {\"type\": \"image_url\", \"image_url\": {\"url\": f\"data:image/jpeg;base64,{image_base64}\"}}\n",
    "                ]\n",
    "            }]\n",
    "        }\n",
    "    else:\n",
    "        payload = {\n",
    "            \"input_type\": \"search_document\",\n",
    "            \"embedding_types\": [\"float\"],\n",
    "            \"texts\": [text]\n",
    "        }\n",
    "    \n",
    "    response = bedrock_client.invoke_model(\n",
    "        modelId='cohere.embed-v4:0',\n",
    "        body=json.dumps(payload),\n",
    "        contentType='application/json'\n",
    "    )\n",
    "    \n",
    "    result = json.loads(response['body'].read())\n",
    "    if isinstance(result['embeddings'], list):\n",
    "        return result['embeddings'][0][\"float\"]\n",
    "    else:\n",
    "        return result['embeddings']['float'][0]\n",
    "        \n",
    "\n",
    "print(\"임베딩 함수 정의 완료\")"
   ]
  },
  {
   "cell_type": "code",
   "execution_count": 12,
   "metadata": {
    "execution": {
     "iopub.execute_input": "2025-10-25T14:39:38.323841Z",
     "iopub.status.busy": "2025-10-25T14:39:38.323591Z",
     "iopub.status.idle": "2025-10-25T14:39:51.027389Z",
     "shell.execute_reply": "2025-10-25T14:39:51.026810Z",
     "shell.execute_reply.started": "2025-10-25T14:39:38.323820Z"
    },
    "scrolled": true
   },
   "outputs": [
    {
     "name": "stdout",
     "output_type": "stream",
     "text": [
      "처리 중: 블루 데님 재킷\n",
      "완료: item_001 - 1%3A0%3AVUjPG5oBmcOlwPDXl4uY\n",
      "처리 중: 블랙 이브닝 드레스\n",
      "완료: item_002 - 1%3A0%3AVkjPG5oBmcOlwPDXoYug\n",
      "처리 중: 화이트 스니커즈\n",
      "완료: item_003 - 1%3A0%3AV0jPG5oBmcOlwPDXq4tl\n",
      "처리 중: 레드 울 스웨터\n",
      "완료: item_004 - 1%3A0%3AWEjPG5oBmcOlwPDXtIvV\n",
      "처리 중: 브라운 가죽 핸드백\n",
      "완료: item_005 - 1%3A0%3AWUjPG5oBmcOlwPDXvot2\n",
      "\n",
      "모든 아이템 처리 완료: 5개\n"
     ]
    }
   ],
   "source": [
    "import time\n",
    "# 임베딩 생성 및 업로드\n",
    "processed_items = []\n",
    "\n",
    "for item in sample_items:\n",
    "    print(f\"처리 중: {item['title']}\")\n",
    "    \n",
    "    # 텍스트 생성\n",
    "    text = f\"Title: {item['title']}\\nDescription: {item['description']}\\nCategory: {item['category']}\\nBrand: {item['brand']}\\nColor: {item['color']}\\nPrice: ${item['price']}\"\n",
    "    \n",
    "    # 이미지 인코딩\n",
    "    image_path = f\"data/images/{item['item_id']}.jpg\"\n",
    "    image_base64 = encode_image(image_path)\n",
    "    \n",
    "    # 멀티모달 임베딩 생성\n",
    "    embedding = generate_embedding(text, image_base64)\n",
    "    time.sleep(2)  # 2초 대기\n",
    "    \n",
    "    # 문서 생성\n",
    "    doc = {\n",
    "        **item,\n",
    "        'multimodal_embedding': embedding,\n",
    "        'created_at': datetime.now().isoformat()\n",
    "    }\n",
    "    \n",
    "    # OpenSearch에 업로드\n",
    "    client.index(index=INDEX_NAME, body=doc)\n",
    "    #client.index(index=INDEX_NAME, id=item['item_id'], body=doc)\n",
    "    response = client.index(index=INDEX_NAME, body=doc)\n",
    "    processed_items.append(doc)\n",
    "    #print(f\"완료: {item['item_id']}\")\n",
    "    print(f\"완료: {item['item_id']} - {response['_id']}\")\n",
    "\n",
    "print(f\"\\n모든 아이템 처리 완료: {len(processed_items)}개\")"
   ]
  },
  {
   "cell_type": "code",
   "execution_count": 13,
   "metadata": {
    "execution": {
     "iopub.execute_input": "2025-10-25T14:39:54.164271Z",
     "iopub.status.busy": "2025-10-25T14:39:54.164024Z",
     "iopub.status.idle": "2025-10-25T14:39:54.171966Z",
     "shell.execute_reply": "2025-10-25T14:39:54.171136Z",
     "shell.execute_reply.started": "2025-10-25T14:39:54.164251Z"
    }
   },
   "outputs": [
    {
     "name": "stdout",
     "output_type": "stream",
     "text": [
      "검색 함수 정의 완료\n"
     ]
    }
   ],
   "source": [
    "def display_results(results, query_desc):\n",
    "    print(f\"\\n=== 검색 결과: {query_desc} ===\")\n",
    "    \n",
    "    if not results:\n",
    "        print(\"❌ 검색 결과가 없습니다.\")\n",
    "        return\n",
    "    \n",
    "    print(f\"📊 총 {len(results)}개 결과 발견\\n\")\n",
    "    \n",
    "    for i, item in enumerate(results, 1):\n",
    "        print(f\"{i}. {item['title']} (점수: {item['score']:.4f})\")\n",
    "        print(f\"   {item['category']} | {item['brand']} | {item['color']} | ${item['price']}\")\n",
    "        print(f\"   {item['description']}\")\n",
    "        print()\n",
    "\n",
    "print(\"🔍 검색 함수 정의 완료\")"
   ]
  },
  {
   "cell_type": "code",
   "execution_count": 14,
   "metadata": {
    "execution": {
     "iopub.execute_input": "2025-10-25T14:39:58.667328Z",
     "iopub.status.busy": "2025-10-25T14:39:58.667086Z",
     "iopub.status.idle": "2025-10-25T14:40:19.488096Z",
     "shell.execute_reply": "2025-10-25T14:40:19.487516Z",
     "shell.execute_reply.started": "2025-10-25T14:39:58.667310Z"
    }
   },
   "outputs": [
    {
     "name": "stdout",
     "output_type": "stream",
     "text": [
      "\n",
      "=== 검색 결과: 텍스트 검색: 블루 캐주얼 재킷 ===\n",
      "\n",
      "=== 검색 결과: 이미지 검색: item_001.jpg ===\n",
      "\n",
      "=== 검색 결과: 멀티모달 검색: 우아한 정장 + 이미지 ===\n"
     ]
    }
   ],
   "source": [
    "# 1. 텍스트 검색\n",
    "results = search(query_text=\"블루 캐주얼 재킷 일상복\")\n",
    "display_results(results, \"텍스트 검색: 블루 캐주얼 재킷\")\n",
    "\n",
    "# 2. 이미지 검색\n",
    "results = search(query_image_path=\"data/images/item_001.jpg\")\n",
    "display_results(results, \"이미지 검색: item_001.jpg\")\n",
    "\n",
    "# 3. 멀티모달 검색\n",
    "results = search(\n",
    "    query_text=\"우아한 정장 특별한 행사용\",\n",
    "    query_image_path=\"data/images/item_002.jpg\"\n",
    ")\n",
    "display_results(results, \"멀티모달 검색: 우아한 정장 + 이미지\")\n"
   ]
  },
  {
   "cell_type": "code",
   "execution_count": 38,
   "metadata": {
    "execution": {
     "iopub.execute_input": "2025-10-25T13:44:36.647631Z",
     "iopub.status.busy": "2025-10-25T13:44:36.647374Z",
     "iopub.status.idle": "2025-10-25T13:44:36.738505Z",
     "shell.execute_reply": "2025-10-25T13:44:36.737748Z",
     "shell.execute_reply.started": "2025-10-25T13:44:36.647611Z"
    }
   },
   "outputs": [
    {
     "name": "stdout",
     "output_type": "stream",
     "text": [
      "인덱스 존재: True\n",
      "문서 수: 10\n"
     ]
    }
   ],
   "source": [
    "# 인덱스 존재 및 문서 수 확인\n",
    "print(f\"인덱스 존재: {client.indices.exists(index=INDEX_NAME)}\")\n",
    "\n",
    "# 문서 수 확인 (다른 방법)\n",
    "response = client.search(index=INDEX_NAME, body={\"query\": {\"match_all\": {}}, \"size\": 0})\n",
    "doc_count = response['hits']['total']['value']\n",
    "print(f\"문서 수: {doc_count}\")\n",
    "\n",
    "if doc_count == 0:\n",
    "    print(\"❌ 문서가 없습니다. 임베딩 업로드가 실패했습니다.\")\n",
    "    print(\"API 제한이 해제된 후 임베딩 생성 셀을 다시 실행하세요.\")"
   ]
  },
  {
   "cell_type": "code",
   "execution_count": 32,
   "metadata": {
    "execution": {
     "iopub.execute_input": "2025-10-25T12:37:44.902967Z",
     "iopub.status.busy": "2025-10-25T12:37:44.902707Z",
     "iopub.status.idle": "2025-10-25T12:37:44.907421Z",
     "shell.execute_reply": "2025-10-25T12:37:44.906549Z",
     "shell.execute_reply.started": "2025-10-25T12:37:44.902947Z"
    }
   },
   "outputs": [
    {
     "name": "stdout",
     "output_type": "stream",
     "text": [
      "=== 멀티모달 임베딩 솔루션 정보 ===\n",
      "OpenSearch 엔드포인트: https://xuys55qp27tqob78dyr0.us-east-1.aoss.amazonaws.com\n",
      "인덱스: fashion-items\n",
      "임베딩 모델: Cohere embed-v4\n",
      "임베딩 차원: 1024\n",
      "처리된 아이템: 5개\n",
      "\n",
      "=== 솔루션 구축 완료 ===\n"
     ]
    }
   ],
   "source": [
    "print(\"=== 멀티모달 임베딩 솔루션 정보 ===\")\n",
    "print(f\"OpenSearch 엔드포인트: {ENDPOINT}\")\n",
    "print(f\"인덱스: {INDEX_NAME}\")\n",
    "print(f\"임베딩 모델: Cohere embed-v4\")\n",
    "print(f\"임베딩 차원: 1024\")\n",
    "print(f\"처리된 아이템: {len(processed_items)}개\")\n",
    "print(\"\\n=== 솔루션 구축 완료 ===\")"
   ]
  }
 ],
 "metadata": {
  "kernelspec": {
   "display_name": "Python 3 (ipykernel)",
   "language": "python",
   "name": "python3"
  },
  "language_info": {
   "codemirror_mode": {
    "name": "ipython",
    "version": 3
   },
   "file_extension": ".py",
   "mimetype": "text/x-python",
   "name": "python",
   "nbconvert_exporter": "python",
   "pygments_lexer": "ipython3",
   "version": "3.12.9"
  }
 },
 "nbformat": 4,
 "nbformat_minor": 4
}